{
 "cells": [
  {
   "cell_type": "code",
   "execution_count": 20,
   "metadata": {},
   "outputs": [
    {
     "data": {
      "text/plain": [
       "'desserts'"
      ]
     },
     "execution_count": 20,
     "metadata": {},
     "output_type": "execute_result"
    }
   ],
   "source": [
    "# 00.\n",
    "s = 'stressed'\n",
    "s[-1::-1]"
   ]
  },
  {
   "cell_type": "code",
   "execution_count": 21,
   "metadata": {
    "scrolled": true
   },
   "outputs": [
    {
     "data": {
      "text/plain": [
       "'タクシー'"
      ]
     },
     "execution_count": 21,
     "metadata": {},
     "output_type": "execute_result"
    }
   ],
   "source": [
    "# 01.\n",
    "s = 'パタトクカシーー'\n",
    "s[1::2]"
   ]
  },
  {
   "cell_type": "code",
   "execution_count": 36,
   "metadata": {},
   "outputs": [
    {
     "data": {
      "text/plain": [
       "'パタトクカシーー'"
      ]
     },
     "execution_count": 36,
     "metadata": {},
     "output_type": "execute_result"
    }
   ],
   "source": [
    "p = 'パトカー'\n",
    "t = 'タクシー'\n",
    "s = ''\n",
    "for i in range(4):\n",
    "    s += p[i]+t[i]\n",
    "s"
   ]
  },
  {
   "cell_type": "code",
   "execution_count": 39,
   "metadata": {},
   "outputs": [
    {
     "data": {
      "text/plain": [
       "[3, 1, 4, 1, 6, 9, 2, 7, 5, 3, 5, 8, 9, 7, 10]"
      ]
     },
     "execution_count": 39,
     "metadata": {},
     "output_type": "execute_result"
    }
   ],
   "source": [
    "s = \"Now I need a drink, alcoholic of course, \\\n",
    "    after the heavy lectures involving quantum mechanics.\"\n",
    "sl = list(map(len, s.split()))\n",
    "sl"
   ]
  },
  {
   "cell_type": "code",
   "execution_count": 48,
   "metadata": {},
   "outputs": [
    {
     "data": {
      "text/plain": [
       "{'Al': 12,\n",
       " 'Ar': 17,\n",
       " 'Be': 3,\n",
       " 'Bo': 4,\n",
       " 'C': 19,\n",
       " 'Ca': 19,\n",
       " 'Cl': 16,\n",
       " 'Co': 5,\n",
       " 'F': 8,\n",
       " 'Fl': 8,\n",
       " 'H': 1,\n",
       " 'He': 1,\n",
       " 'Hi': 0,\n",
       " 'Ki': 18,\n",
       " 'Li': 2,\n",
       " 'Mi': 11,\n",
       " 'N': 9,\n",
       " 'Na': 10,\n",
       " 'Ne': 9,\n",
       " 'No': 6,\n",
       " 'O': 7,\n",
       " 'Ox': 7,\n",
       " 'Pe': 14,\n",
       " 'S': 15,\n",
       " 'Se': 15,\n",
       " 'Si': 13}"
      ]
     },
     "execution_count": 48,
     "metadata": {},
     "output_type": "execute_result"
    }
   ],
   "source": [
    "s = \"Hi He Lied Because Boron Could Not Oxidize Fluorine.\\\n",
    "    New Nations Might Also Sign Peace Security Clause. Arthur King Can.\"\n",
    "sd = {}\n",
    "for i, w in enumerate(map(lambda a: a[:2], s.split())):\n",
    "    if i in [1, 5, 6, 7, 8, 9, 15, 16, 19]:\n",
    "        sd[w[:1]] = i\n",
    "    sd[w] = i\n",
    "sd"
   ]
  },
  {
   "cell_type": "code",
   "execution_count": 58,
   "metadata": {},
   "outputs": [
    {
     "name": "stdout",
     "output_type": "stream",
     "text": [
      "1\n",
      "{'an-NLPer', 'I-am', 'am-an'}\n",
      "{'Pe', 'LP', 'NL', 'an', 'er', 'am'}\n"
     ]
    }
   ],
   "source": [
    "# http://d.hatena.ne.jp/jetbead/20110904/1315147133\n",
    "def biGram(sorl):\n",
    "    if type(sorl) == list:\n",
    "        s = ' '.join(sorl)\n",
    "    else:\n",
    "        s = sorl\n",
    "    sl = s.split()\n",
    "    word_biGram = set()\n",
    "    sent_biGram = set()\n",
    "    i = 0\n",
    "    while i < len(sl):\n",
    "        if i != len(sl)-1: #not last one. cuz until n-1;\n",
    "            word_biGram.add(sl[i]+'-'+sl[i+1])\n",
    "        j = 0\n",
    "        while j < len(sl[i])-1:\n",
    "            sent_biGram.add(sl[i][j]+sl[i][j+1])\n",
    "            j += 1\n",
    "        i += 1\n",
    "    print(word_biGram)\n",
    "    print(sent_biGram)\n",
    "    return {'word_biGram': word_biGram, 'sent_biGram': sent_biGram}\n",
    "\n",
    "biGram(\"I am an NLPer\")"
   ]
  },
  {
   "cell_type": "code",
   "execution_count": null,
   "metadata": {
    "collapsed": true
   },
   "outputs": [],
   "source": []
  },
  {
   "cell_type": "code",
   "execution_count": null,
   "metadata": {
    "collapsed": true
   },
   "outputs": [],
   "source": []
  }
 ],
 "metadata": {
  "kernelspec": {
   "display_name": "Python 3",
   "language": "python",
   "name": "python3"
  },
  "language_info": {
   "codemirror_mode": {
    "name": "ipython",
    "version": 3
   },
   "file_extension": ".py",
   "mimetype": "text/x-python",
   "name": "python",
   "nbconvert_exporter": "python",
   "pygments_lexer": "ipython3",
   "version": "3.6.0"
  }
 },
 "nbformat": 4,
 "nbformat_minor": 2
}
