{
 "cells": [
  {
   "cell_type": "code",
   "execution_count": 1,
   "metadata": {
    "scrolled": false
   },
   "outputs": [
    {
     "data": {
      "text/plain": [
       "'desserts'"
      ]
     },
     "execution_count": 1,
     "metadata": {},
     "output_type": "execute_result"
    }
   ],
   "source": [
    "# 00.\n",
    "s = 'stressed'\n",
    "s[-1::-1]"
   ]
  },
  {
   "cell_type": "code",
   "execution_count": 2,
   "metadata": {
    "scrolled": true
   },
   "outputs": [
    {
     "data": {
      "text/plain": [
       "'タクシー'"
      ]
     },
     "execution_count": 2,
     "metadata": {},
     "output_type": "execute_result"
    }
   ],
   "source": [
    "# 01.\n",
    "s = 'パタトクカシーー'\n",
    "s[1::2]"
   ]
  },
  {
   "cell_type": "code",
   "execution_count": 3,
   "metadata": {},
   "outputs": [
    {
     "data": {
      "text/plain": [
       "'パタトクカシーー'"
      ]
     },
     "execution_count": 3,
     "metadata": {},
     "output_type": "execute_result"
    }
   ],
   "source": [
    "# 02.\n",
    "p = 'パトカー'\n",
    "t = 'タクシー'\n",
    "s = ''\n",
    "for i in range(4):\n",
    "    s += p[i]+t[i]\n",
    "s"
   ]
  },
  {
   "cell_type": "code",
   "execution_count": 4,
   "metadata": {},
   "outputs": [
    {
     "data": {
      "text/plain": [
       "[3, 1, 4, 1, 6, 9, 2, 7, 5, 3, 5, 8, 9, 7, 10]"
      ]
     },
     "execution_count": 4,
     "metadata": {},
     "output_type": "execute_result"
    }
   ],
   "source": [
    "# 03.\n",
    "s = \"Now I need a drink, alcoholic of course, \\\n",
    "    after the heavy lectures involving quantum mechanics.\"\n",
    "sl = list(map(len, s.split()))\n",
    "sl"
   ]
  },
  {
   "cell_type": "code",
   "execution_count": 5,
   "metadata": {
    "scrolled": false
   },
   "outputs": [
    {
     "data": {
      "text/plain": [
       "{'Al': 13,\n",
       " 'Ar': 18,\n",
       " 'B': 5,\n",
       " 'Be': 4,\n",
       " 'C': 6,\n",
       " 'Ca': 20,\n",
       " 'Cl': 17,\n",
       " 'F': 9,\n",
       " 'H': 1,\n",
       " 'He': 2,\n",
       " 'K': 19,\n",
       " 'Li': 3,\n",
       " 'Mi': 12,\n",
       " 'N': 7,\n",
       " 'Na': 11,\n",
       " 'Ne': 10,\n",
       " 'O': 8,\n",
       " 'P': 15,\n",
       " 'S': 16,\n",
       " 'Si': 14}"
      ]
     },
     "execution_count": 5,
     "metadata": {},
     "output_type": "execute_result"
    }
   ],
   "source": [
    "# 04.\n",
    "s = \"Hi He Lied Because Boron Could Not Oxidize Fluorine.\\\n",
    "    New Nations Might Also Sign Peace Security Clause. Arthur King Can.\"\n",
    "sd = {}\n",
    "for i, w in enumerate(list(s.split())):\n",
    "    j = i+1\n",
    "    if j in [1, 5, 6, 7, 8, 9, 15, 16, 19]:\n",
    "        sd[w[:1]] = j\n",
    "    else:\n",
    "        sd[w[:2]] = j\n",
    "sd"
   ]
  },
  {
   "cell_type": "code",
   "execution_count": 6,
   "metadata": {},
   "outputs": [
    {
     "name": "stdout",
     "output_type": "stream",
     "text": [
      "I-am\n",
      "am-an\n",
      "an-NLPer\n",
      "\n",
      "\n",
      "am\n",
      "\n",
      "an\n",
      "\n",
      "NL\n",
      "LP\n",
      "Pe\n",
      "er\n",
      "\n",
      "I \n",
      " a\n",
      "am\n",
      "m \n",
      " a\n",
      "an\n",
      "n \n",
      " N\n",
      "NL\n",
      "LP\n",
      "Pe\n",
      "er\n",
      "\n"
     ]
    }
   ],
   "source": [
    "# 与えられたシーケンス（文字列やリストなど）からn-gramを作る関数を作成せよ．\n",
    "# この関数を用い，\"I am an NLPer\"という文から単語bi-gram，文字bi-gramを得よ．\n",
    "# 引数：文字列かリスト\n",
    "# 戻り値：単語bi-gram、文字bi-gram\n",
    "def ngram(sequence, n = 2, sep = ''):\n",
    "    #リストなら単語区切り、文字列なら単語が来ると想定\n",
    "    seq = list(sequence[:])\n",
    "    # print(seq)\n",
    "    i = 0\n",
    "    while i < len(seq) - n + 1:\n",
    "        print(sep.join([seq[i],seq[i+1]]))\n",
    "        i += 1\n",
    "\n",
    "s = \"I am an NLPer\"\n",
    "ngram(s.split(), sep='-'); print()\n",
    "for w in s.split():\n",
    "    ngram(w); print()\n",
    "ngram(s); print()"
   ]
  },
  {
   "cell_type": "code",
   "execution_count": 7,
   "metadata": {},
   "outputs": [
    {
     "name": "stdout",
     "output_type": "stream",
     "text": [
      "{'ad', 'gr', 'se', 'is', 'ra', 'ar', 'pa', 'ph', 'ap', 'ag', 'di'}\n",
      "{'ap', 'ar', 'ra', 'pa'}\n",
      "{'di', 'is', 'ad', 'se'} {'ph', 'gr', 'ag'} {'ad', 'is', 'gr', 'se', 'ph', 'ag', 'di'}\n"
     ]
    }
   ],
   "source": [
    "def ngram(sequence, n = 2, sep = ''):\n",
    "    #リストなら単語区切り、文字列なら単語が来ると想定\n",
    "    seq = list(sequence[:])\n",
    "    rtn = []\n",
    "    for i in range(0,len(seq)-n+1):\n",
    "        rtn.append(sep.join([seq[i],seq[i+1]]))\n",
    "    return rtn\n",
    "\n",
    "x=\"paraparaparadise\"\n",
    "y=\"paragraph\"\n",
    "# 和集合，積集合，差集合を求めよ．\n",
    "# 'se'というbi-gramがXおよびYに含まれるかどうかを調べよ\n",
    "X = set( ngram(x) )\n",
    "Y = set( ngram(y) )\n",
    "print(X|Y)\n",
    "print(X&Y)\n",
    "print(X-Y, Y-X, X^Y)"
   ]
  },
  {
   "cell_type": "code",
   "execution_count": 8,
   "metadata": {
    "scrolled": true
   },
   "outputs": [
    {
     "name": "stdout",
     "output_type": "stream",
     "text": [
      "12時の気温は22.4\n"
     ]
    }
   ],
   "source": [
    "# 引数x, y, zを受け取り「x時のyはz」という文字列を返す関数を実装せよ．さらに，x=12, y=\"気温\", z=22.4として，実行結果を確認せよ．\n",
    "def ps(x,y,z):\n",
    "    print(\"{0}時の{1}は{2}\".format(x,y,z))\n",
    "    return\n",
    "ps(12,'気温',22.4)"
   ]
  },
  {
   "cell_type": "code",
   "execution_count": 9,
   "metadata": {},
   "outputs": [
    {
     "data": {
      "text/plain": [
       "'Hello world again!'"
      ]
     },
     "execution_count": 9,
     "metadata": {},
     "output_type": "execute_result"
    }
   ],
   "source": [
    "# 関数cipherを実装せよ．\n",
    "# 英小文字ならば(219 - 文字コード)の文字に置換\n",
    "# その他の文字はそのまま出力\n",
    "# この関数を用い，英語のメッセージを暗号化・復号化せよ．\n",
    "def cipher(w):\n",
    "    r = ''\n",
    "    for c in w[:]:\n",
    "        if c.islower():\n",
    "            c = chr( 219 - ord(c) )\n",
    "        r += c\n",
    "    return r\n",
    "\n",
    "cipher('Hello world!')\n",
    "cipher(cipher('Hello world again!'))"
   ]
  },
  {
   "cell_type": "code",
   "execution_count": 10,
   "metadata": {},
   "outputs": [
    {
     "data": {
      "text/plain": [
       "\"I clndou't bevilee that I cuold aclatluy utannserdd what I was rniadeg : the pnomenheal pewor of the huamn mind .\""
      ]
     },
     "execution_count": 10,
     "metadata": {},
     "output_type": "execute_result"
    }
   ],
   "source": [
    "# スペースで区切られた単語列に対して，各単語の先頭と末尾の文字は残し，それ以外の文字の順序をランダムに並び替えるプログラムを作成せよ．\n",
    "# ただし，長さが４以下の単語は並び替えないこととする．適当な英語の文\n",
    "from random import shuffle\n",
    "s = \"I couldn't believe that I could actually understand what I was reading : the phenomenal power of the human mind .\"\n",
    "# を与え，その実行結果を確認せよ．\n",
    "def shuffleWord(sentence):\n",
    "    sts = sentence.split()\n",
    "    result = []\n",
    "    for i in sts:\n",
    "        if len(i) > 4:\n",
    "            mid = list(i[1:-1])\n",
    "            shuffle(mid)\n",
    "            i = i[0] + ''.join(mid) + i[-1]\n",
    "        result.append(i)\n",
    "    return ' '.join(result)\n",
    "\n",
    "shuffleWord(s)"
   ]
  },
  {
   "cell_type": "code",
   "execution_count": null,
   "metadata": {
    "collapsed": true
   },
   "outputs": [],
   "source": []
  }
 ],
 "metadata": {
  "kernelspec": {
   "display_name": "Python 3",
   "language": "python",
   "name": "python3"
  },
  "language_info": {
   "codemirror_mode": {
    "name": "ipython",
    "version": 3
   },
   "file_extension": ".py",
   "mimetype": "text/x-python",
   "name": "python",
   "nbconvert_exporter": "python",
   "pygments_lexer": "ipython3",
   "version": "3.6.0"
  }
 },
 "nbformat": 4,
 "nbformat_minor": 2
}
