{
 "cells": [
  {
   "cell_type": "markdown",
   "metadata": {},
   "source": [
    "10. 行数のカウント\n",
    "行数をカウントせよ．確認にはwcコマンドを用いよ．\n",
    "\n",
    "11. タブをスペースに置換\n",
    "タブ1文字につきスペース1文字に置換せよ．確認にはsedコマンド，trコマンド，もしくはexpandコマンドを用いよ．\n",
    "\n",
    "12. 1列目をcol1.txtに，2列目をcol2.txtに保存\n",
    "各行の1列目だけを抜き出したものをcol1.txtに，2列目だけを抜き出したものをcol2.txtとしてファイルに保存せよ．確認にはcutコマンドを用いよ．\n",
    "\n",
    "13. col1.txtとcol2.txtをマージ\n",
    "12で作ったcol1.txtとcol2.txtを結合し，元のファイルの1列目と2列目をタブ区切りで並べたテキストファイルを作成せよ．確認にはpasteコマンドを用いよ．\n",
    "\n",
    "14. 先頭からN行を出力\n",
    "自然数Nをコマンドライン引数などの手段で受け取り，入力のうち先頭のN行だけを表示せよ．確認にはheadコマンドを用いよ．"
   ]
  },
  {
   "cell_type": "code",
   "execution_count": 1,
   "metadata": {},
   "outputs": [
    {
     "name": "stdout",
     "output_type": "stream",
     "text": [
      "24\n"
     ]
    }
   ],
   "source": [
    "with open('hightemp.txt') as io:\n",
    "    print(len(list(io)))"
   ]
  },
  {
   "cell_type": "code",
   "execution_count": 2,
   "metadata": {},
   "outputs": [
    {
     "name": "stdout",
     "output_type": "stream",
     "text": [
      "['高知県', '江川崎', '41', '2013-08-12']\n",
      "['埼玉県', '熊谷', '40.9', '2007-08-16']\n",
      "['岐阜県', '多治見', '40.9', '2007-08-16']\n",
      "['山形県', '山形', '40.8', '1933-07-25']\n",
      "['山梨県', '甲府', '40.7', '2013-08-10']\n",
      "['和歌山県', 'かつらぎ', '40.6', '1994-08-08']\n",
      "['静岡県', '天竜', '40.6', '1994-08-04']\n",
      "['山梨県', '勝沼', '40.5', '2013-08-10']\n",
      "['埼玉県', '越谷', '40.4', '2007-08-16']\n",
      "['群馬県', '館林', '40.3', '2007-08-16']\n",
      "['群馬県', '上里見', '40.3', '1998-07-04']\n",
      "['愛知県', '愛西', '40.3', '1994-08-05']\n",
      "['千葉県', '牛久', '40.2', '2004-07-20']\n",
      "['静岡県', '佐久間', '40.2', '2001-07-24']\n",
      "['愛媛県', '宇和島', '40.2', '1927-07-22']\n",
      "['山形県', '酒田', '40.1', '1978-08-03']\n",
      "['岐阜県', '美濃', '40', '2007-08-16']\n",
      "['群馬県', '前橋', '40', '2001-07-24']\n",
      "['千葉県', '茂原', '39.9', '2013-08-11']\n",
      "['埼玉県', '鳩山', '39.9', '1997-07-05']\n",
      "['大阪府', '豊中', '39.9', '1994-08-08']\n",
      "['山梨県', '大月', '39.9', '1990-07-19']\n",
      "['山形県', '鶴岡', '39.9', '1978-08-03']\n",
      "['愛知県', '名古屋', '39.9', '1942-08-02']\n"
     ]
    }
   ],
   "source": [
    "import re\n",
    "with open('hightemp.txt') as io:\n",
    "    for line in io:\n",
    "#         line = re.sub(r\"\\t+\", \" \", line)\n",
    "        line = line.split()\n",
    "        print(line)"
   ]
  },
  {
   "cell_type": "code",
   "execution_count": 3,
   "metadata": {
    "collapsed": true
   },
   "outputs": [],
   "source": [
    "import re\n",
    "with open('hightemp.txt') as io:\n",
    "    for line in io:\n",
    "        line = re.sub(r\"\\t+\", \" \", line)\n",
    "        cols = line.split()\n",
    "        for i in [1,2]:\n",
    "            with open('col{0}.txt'.format(i), 'a') as io1:\n",
    "                io1.write(cols[i-1]+'\\n')"
   ]
  },
  {
   "cell_type": "code",
   "execution_count": 4,
   "metadata": {
    "collapsed": true
   },
   "outputs": [],
   "source": [
    "with open('col1.txt') as c1, open('col2.txt') as c2, open('col1&2.txt', 'w') as c12:\n",
    "    for i, j in zip(c1, c2):\n",
    "        c12.write('{0}\\t{1}\\n'.format(i[:-1],j[:-1]))"
   ]
  },
  {
   "cell_type": "raw",
   "metadata": {},
   "source": [
    "15. 末尾のN行を出力\n",
    "自然数Nをコマンドライン引数などの手段で受け取り，入力のうち末尾のN行だけを表示せよ．確認にはtailコマンドを用いよ．\n",
    "\n",
    "16. ファイルをN分割する\n",
    "自然数Nをコマンドライン引数などの手段で受け取り，入力のファイルを行単位でN分割せよ．同様の処理をsplitコマンドで実現せよ．\n",
    "\n",
    "17. １列目の文字列の異なり\n",
    "1列目の文字列の種類（異なる文字列の集合）を求めよ．確認にはsort, uniqコマンドを用いよ．\n",
    "\n",
    "18. 各行を3コラム目の数値の降順にソート\n",
    "各行を3コラム目の数値の逆順で整列せよ（注意: 各行の内容は変更せずに並び替えよ）．確認にはsortコマンドを用いよ（この問題はコマンドで実行した時の結果と合わなくてもよい）．\n",
    "\n",
    "19. 各行の1コラム目の文字列の出現頻度を求め，出現頻度の高い順に並べる\n",
    "各行の1列目の文字列の出現頻度を求め，その高い順に並べて表示せよ．確認にはcut, uniq, sortコマンドを用いよ．"
   ]
  },
  {
   "cell_type": "code",
   "execution_count": 5,
   "metadata": {
    "collapsed": true
   },
   "outputs": [],
   "source": [
    "# 15.py"
   ]
  },
  {
   "cell_type": "code",
   "execution_count": 7,
   "metadata": {
    "collapsed": true
   },
   "outputs": [
    {
     "name": "stdout",
     "output_type": "stream",
     "text": [
      "Enter N > 3\n",
      "0 :\n",
      " 高知県\t江川崎\t41\t2013-08-12\n",
      "山形県\t山形\t40.8\t1933-07-25\n",
      "静岡県\t天竜\t40.6\t1994-08-04\n",
      "群馬県\t館林\t40.3\t2007-08-16\n",
      "千葉県\t牛久\t40.2\t2004-07-20\n",
      "山形県\t酒田\t40.1\t1978-08-03\n",
      "千葉県\t茂原\t39.9\t2013-08-11\n",
      "山梨県\t大月\t39.9\t1990-07-19\n",
      "\n",
      "1 :\n",
      " 埼玉県\t熊谷\t40.9\t2007-08-16\n",
      "山梨県\t甲府\t40.7\t2013-08-10\n",
      "山梨県\t勝沼\t40.5\t2013-08-10\n",
      "群馬県\t上里見\t40.3\t1998-07-04\n",
      "静岡県\t佐久間\t40.2\t2001-07-24\n",
      "岐阜県\t美濃\t40\t2007-08-16\n",
      "埼玉県\t鳩山\t39.9\t1997-07-05\n",
      "山形県\t鶴岡\t39.9\t1978-08-03\n",
      "\n",
      "2 :\n",
      " 岐阜県\t多治見\t40.9\t2007-08-16\n",
      "和歌山県\tかつらぎ\t40.6\t1994-08-08\n",
      "埼玉県\t越谷\t40.4\t2007-08-16\n",
      "愛知県\t愛西\t40.3\t1994-08-05\n",
      "愛媛県\t宇和島\t40.2\t1927-07-22\n",
      "群馬県\t前橋\t40\t2001-07-24\n",
      "大阪府\t豊中\t39.9\t1994-08-08\n",
      "愛知県\t名古屋\t39.9\t1942-08-02\n",
      "\n"
     ]
    }
   ],
   "source": [
    "# 16\n",
    "N = int(input('Enter N > '))\n",
    "spl = ['']*N\n",
    "with open('hightemp.txt') as f:\n",
    "    for idx, line in enumerate(f.readlines()):\n",
    "        i = idx%3\n",
    "        spl[i] += line\n",
    "    for i in range(N):\n",
    "        print(i, \":\\n\", spl[i])"
   ]
  },
  {
   "cell_type": "code",
   "execution_count": 7,
   "metadata": {},
   "outputs": [
    {
     "name": "stdout",
     "output_type": "stream",
     "text": [
      "{'静岡県', '群馬県', '高知県', '千葉県', '山形県', '愛知県', '愛媛県', '大阪府', '埼玉県', '山梨県', '和歌山県', '岐阜県'}\n"
     ]
    }
   ],
   "source": [
    "# 17\n",
    "with open('hightemp.txt') as f:\n",
    "    lines = f.readlines()\n",
    "    lines = list(map(lambda s: s.split(), lines))\n",
    "    result = set(map(lambda i:i[0], lines))\n",
    "    print(result)"
   ]
  },
  {
   "cell_type": "code",
   "execution_count": 17,
   "metadata": {
    "collapsed": true
   },
   "outputs": [],
   "source": [
    "# 18\n",
    "import pandas as pd\n",
    "df = pd.read_csv('hightemp.txt', sep='\\t', header=None)\n",
    "result = df.sort_values(by=2)\n",
    "# result"
   ]
  },
  {
   "cell_type": "code",
   "execution_count": 28,
   "metadata": {},
   "outputs": [
    {
     "name": "stdout",
     "output_type": "stream",
     "text": [
      "埼玉県\n",
      "山形県\n",
      "山梨県\n",
      "群馬県\n",
      "岐阜県\n",
      "静岡県\n",
      "愛知県\n",
      "千葉県\n",
      "高知県\n",
      "和歌山県\n",
      "愛媛県\n",
      "大阪府\n"
     ]
    }
   ],
   "source": [
    "# 19\n",
    "import pandas as pd\n",
    "df = pd.read_csv('hightemp.txt', sep='\\t', header=None)\n",
    "pref = list(df[0])\n",
    "freq = dict()\n",
    "for p in pref:\n",
    "    if p in freq:\n",
    "        freq[p] += 1\n",
    "    else:\n",
    "        freq[p] = 1\n",
    "result = sorted(list(freq.items()), key=lambda i: -i[1])\n",
    "for i in result:\n",
    "    print(i[0])"
   ]
  },
  {
   "cell_type": "code",
   "execution_count": null,
   "metadata": {
    "collapsed": true
   },
   "outputs": [],
   "source": []
  }
 ],
 "metadata": {
  "kernelspec": {
   "display_name": "Python 3",
   "language": "python",
   "name": "python3"
  },
  "language_info": {
   "codemirror_mode": {
    "name": "ipython",
    "version": 3
   },
   "file_extension": ".py",
   "mimetype": "text/x-python",
   "name": "python",
   "nbconvert_exporter": "python",
   "pygments_lexer": "ipython3",
   "version": "3.6.0"
  }
 },
 "nbformat": 4,
 "nbformat_minor": 2
}
